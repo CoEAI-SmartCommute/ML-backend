{
 "cells": [
  {
   "cell_type": "code",
   "execution_count": null,
   "metadata": {},
   "outputs": [],
   "source": [
    "import pickle\n",
    "import pandas as pd\n",
    "from sklearn.model_selection import train_test_split\n",
    "from sklearn.neighbors import KNeighborsRegressor\n",
    "import numpy as np\n",
    "from datetime import datetime\n",
    "import matplotlib.pyplot as plt\n",
    "import seaborn as sns"
   ]
  },
  {
   "cell_type": "code",
   "execution_count": 2,
   "metadata": {},
   "outputs": [
    {
     "ename": "ModuleNotFoundError",
     "evalue": "No module named 'pandas'",
     "output_type": "error",
     "traceback": [
      "\u001b[1;31m---------------------------------------------------------------------------\u001b[0m",
      "\u001b[1;31mModuleNotFoundError\u001b[0m                       Traceback (most recent call last)",
      "Cell \u001b[1;32mIn[2], line 1\u001b[0m\n\u001b[1;32m----> 1\u001b[0m \u001b[38;5;28;01mimport\u001b[39;00m \u001b[38;5;21;01mpandas\u001b[39;00m \u001b[38;5;28;01mas\u001b[39;00m \u001b[38;5;21;01mpd\u001b[39;00m\n\u001b[0;32m      2\u001b[0m \u001b[38;5;28;01mimport\u001b[39;00m \u001b[38;5;21;01mos\u001b[39;00m\n\u001b[0;32m      5\u001b[0m \u001b[38;5;28;01mdef\u001b[39;00m \u001b[38;5;21mcombine_excel_files\u001b[39m(folder_path):\n",
      "\u001b[1;31mModuleNotFoundError\u001b[0m: No module named 'pandas'"
     ]
    }
   ],
   "source": [
    "import pandas as pd\n",
    "import os\n",
    "\n",
    "\n",
    "def combine_excel_files(folder_path):\n",
    "  \"\"\"Combines multiple Excel files in a folder into a single DataFrame.\n",
    "\n",
    "  Args:\n",
    "    folder_path: The path to the folder containing the Excel files.\n",
    "\n",
    "  Returns:\n",
    "    A Pandas DataFrame containing the combined data.\n",
    "  \"\"\"\n",
    "\n",
    "  all_dataframes = []\n",
    "  for file in os.listdir(folder_path):\n",
    "    if file.endswith('.xlsx'):\n",
    "      file_path = os.path.join(folder_path, file)\n",
    "      df = pd.read_excel(file_path)\n",
    "      all_dataframes.append(df)\n",
    "\n",
    "  combined_df = pd.concat(all_dataframes, ignore_index=True)\n",
    "  return combined_df\n",
    "\n",
    "\n",
    "folder_path = '/content/gdrive/MyDrive/citra/fwdcalicutcitycrashdata'\n",
    "accident_data = combine_excel_files(folder_path)\n",
    "accident_data"
   ]
  }
 ],
 "metadata": {
  "kernelspec": {
   "display_name": "Python 3",
   "language": "python",
   "name": "python3"
  },
  "language_info": {
   "codemirror_mode": {
    "name": "ipython",
    "version": 3
   },
   "file_extension": ".py",
   "mimetype": "text/x-python",
   "name": "python",
   "nbconvert_exporter": "python",
   "pygments_lexer": "ipython3",
   "version": "3.12.1"
  }
 },
 "nbformat": 4,
 "nbformat_minor": 2
}
